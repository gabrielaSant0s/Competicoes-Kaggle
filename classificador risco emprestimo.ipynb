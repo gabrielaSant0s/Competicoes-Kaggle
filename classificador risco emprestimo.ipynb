{
 "cells": [
  {
   "cell_type": "markdown",
   "metadata": {},
   "source": [
    "Importando bibliotecas e pacotes "
   ]
  },
  {
   "cell_type": "code",
   "execution_count": 1,
   "metadata": {},
   "outputs": [
    {
     "name": "stdout",
     "output_type": "stream",
     "text": [
      "Collecting package metadata (current_repodata.json): ...working... done\n",
      "Solving environment: ...working... done\n",
      "\n",
      "# All requested packages already installed.\n",
      "\n"
     ]
    }
   ],
   "source": [
    "import sys\n",
    "!conda install --yes --prefix {sys.prefix} seaborn"
   ]
  },
  {
   "cell_type": "code",
   "execution_count": 2,
   "metadata": {},
   "outputs": [],
   "source": [
    "from sklearn import datasets \n",
    "import pandas as pd \n",
    "import seaborn as sns \n",
    "from sklearn.ensemble import RandomForestClassifier "
   ]
  },
  {
   "cell_type": "markdown",
   "metadata": {},
   "source": [
    "Importando as planilhas de dados "
   ]
  },
  {
   "cell_type": "code",
   "execution_count": 3,
   "metadata": {},
   "outputs": [],
   "source": [
    "dadosTreinamento = pd.read_csv(\"conjunto_de_treinamento.csv.zip\")\n",
    "dadosTeste = pd.read_csv(\"conjunto_de_teste.csv\")\n",
    "exemploRespostas = pd.read_csv(\"exemplo_arquivo_respostas.csv\")"
   ]
  },
  {
   "cell_type": "markdown",
   "metadata": {},
   "source": [
    "Transformando em Dataframe "
   ]
  },
  {
   "cell_type": "code",
   "execution_count": 4,
   "metadata": {},
   "outputs": [],
   "source": [
    "df_treinamento = pd.DataFrame(dadosTreinamento)\n",
    "df_teste = pd.DataFrame(dadosTeste)\n",
    "df_exresp = pd.DataFrame(exemploRespostas)"
   ]
  },
  {
   "cell_type": "code",
   "execution_count": 5,
   "metadata": {},
   "outputs": [
    {
     "data": {
      "text/html": [
       "<div>\n",
       "<style scoped>\n",
       "    .dataframe tbody tr th:only-of-type {\n",
       "        vertical-align: middle;\n",
       "    }\n",
       "\n",
       "    .dataframe tbody tr th {\n",
       "        vertical-align: top;\n",
       "    }\n",
       "\n",
       "    .dataframe thead th {\n",
       "        text-align: right;\n",
       "    }\n",
       "</style>\n",
       "<table border=\"1\" class=\"dataframe\">\n",
       "  <thead>\n",
       "    <tr style=\"text-align: right;\">\n",
       "      <th></th>\n",
       "      <th>id_solicitante</th>\n",
       "      <th>inadimplente</th>\n",
       "    </tr>\n",
       "  </thead>\n",
       "  <tbody>\n",
       "    <tr>\n",
       "      <th>0</th>\n",
       "      <td>20001</td>\n",
       "      <td>0</td>\n",
       "    </tr>\n",
       "    <tr>\n",
       "      <th>1</th>\n",
       "      <td>20002</td>\n",
       "      <td>1</td>\n",
       "    </tr>\n",
       "    <tr>\n",
       "      <th>2</th>\n",
       "      <td>20003</td>\n",
       "      <td>0</td>\n",
       "    </tr>\n",
       "    <tr>\n",
       "      <th>3</th>\n",
       "      <td>20004</td>\n",
       "      <td>1</td>\n",
       "    </tr>\n",
       "    <tr>\n",
       "      <th>4</th>\n",
       "      <td>20005</td>\n",
       "      <td>0</td>\n",
       "    </tr>\n",
       "  </tbody>\n",
       "</table>\n",
       "</div>"
      ],
      "text/plain": [
       "   id_solicitante  inadimplente\n",
       "0           20001             0\n",
       "1           20002             1\n",
       "2           20003             0\n",
       "3           20004             1\n",
       "4           20005             0"
      ]
     },
     "execution_count": 5,
     "metadata": {},
     "output_type": "execute_result"
    }
   ],
   "source": [
    "df_exresp.head()"
   ]
  },
  {
   "cell_type": "code",
   "execution_count": 6,
   "metadata": {},
   "outputs": [
    {
     "data": {
      "text/html": [
       "<div>\n",
       "<style scoped>\n",
       "    .dataframe tbody tr th:only-of-type {\n",
       "        vertical-align: middle;\n",
       "    }\n",
       "\n",
       "    .dataframe tbody tr th {\n",
       "        vertical-align: top;\n",
       "    }\n",
       "\n",
       "    .dataframe thead th {\n",
       "        text-align: right;\n",
       "    }\n",
       "</style>\n",
       "<table border=\"1\" class=\"dataframe\">\n",
       "  <thead>\n",
       "    <tr style=\"text-align: right;\">\n",
       "      <th></th>\n",
       "      <th>id_solicitante</th>\n",
       "      <th>produto_solicitado</th>\n",
       "      <th>dia_vencimento</th>\n",
       "      <th>forma_envio_solicitacao</th>\n",
       "      <th>tipo_endereco</th>\n",
       "      <th>sexo</th>\n",
       "      <th>idade</th>\n",
       "      <th>estado_civil</th>\n",
       "      <th>qtde_dependentes</th>\n",
       "      <th>grau_instrucao</th>\n",
       "      <th>...</th>\n",
       "      <th>estado_onde_trabalha</th>\n",
       "      <th>possui_telefone_trabalho</th>\n",
       "      <th>codigo_area_telefone_trabalho</th>\n",
       "      <th>meses_no_trabalho</th>\n",
       "      <th>profissao</th>\n",
       "      <th>ocupacao</th>\n",
       "      <th>profissao_companheiro</th>\n",
       "      <th>grau_instrucao_companheiro</th>\n",
       "      <th>local_onde_reside</th>\n",
       "      <th>local_onde_trabalha</th>\n",
       "    </tr>\n",
       "  </thead>\n",
       "  <tbody>\n",
       "    <tr>\n",
       "      <th>0</th>\n",
       "      <td>20001</td>\n",
       "      <td>1</td>\n",
       "      <td>25</td>\n",
       "      <td>presencial</td>\n",
       "      <td>1</td>\n",
       "      <td>M</td>\n",
       "      <td>37</td>\n",
       "      <td>2</td>\n",
       "      <td>0</td>\n",
       "      <td>0</td>\n",
       "      <td>...</td>\n",
       "      <td></td>\n",
       "      <td>N</td>\n",
       "      <td></td>\n",
       "      <td>0</td>\n",
       "      <td>0.0</td>\n",
       "      <td>0.0</td>\n",
       "      <td>0.0</td>\n",
       "      <td>0.0</td>\n",
       "      <td>384.0</td>\n",
       "      <td>384.0</td>\n",
       "    </tr>\n",
       "    <tr>\n",
       "      <th>1</th>\n",
       "      <td>20002</td>\n",
       "      <td>1</td>\n",
       "      <td>10</td>\n",
       "      <td>internet</td>\n",
       "      <td>1</td>\n",
       "      <td>F</td>\n",
       "      <td>31</td>\n",
       "      <td>2</td>\n",
       "      <td>0</td>\n",
       "      <td>0</td>\n",
       "      <td>...</td>\n",
       "      <td>RJ</td>\n",
       "      <td>N</td>\n",
       "      <td></td>\n",
       "      <td>0</td>\n",
       "      <td>9.0</td>\n",
       "      <td>5.0</td>\n",
       "      <td>NaN</td>\n",
       "      <td>NaN</td>\n",
       "      <td>275.0</td>\n",
       "      <td>275.0</td>\n",
       "    </tr>\n",
       "    <tr>\n",
       "      <th>2</th>\n",
       "      <td>20003</td>\n",
       "      <td>1</td>\n",
       "      <td>10</td>\n",
       "      <td>internet</td>\n",
       "      <td>1</td>\n",
       "      <td>F</td>\n",
       "      <td>18</td>\n",
       "      <td>2</td>\n",
       "      <td>0</td>\n",
       "      <td>0</td>\n",
       "      <td>...</td>\n",
       "      <td>RS</td>\n",
       "      <td>N</td>\n",
       "      <td></td>\n",
       "      <td>0</td>\n",
       "      <td>9.0</td>\n",
       "      <td>2.0</td>\n",
       "      <td>NaN</td>\n",
       "      <td>NaN</td>\n",
       "      <td>948.0</td>\n",
       "      <td>948.0</td>\n",
       "    </tr>\n",
       "    <tr>\n",
       "      <th>3</th>\n",
       "      <td>20004</td>\n",
       "      <td>1</td>\n",
       "      <td>10</td>\n",
       "      <td>presencial</td>\n",
       "      <td>1</td>\n",
       "      <td>F</td>\n",
       "      <td>55</td>\n",
       "      <td>2</td>\n",
       "      <td>0</td>\n",
       "      <td>0</td>\n",
       "      <td>...</td>\n",
       "      <td></td>\n",
       "      <td>N</td>\n",
       "      <td></td>\n",
       "      <td>0</td>\n",
       "      <td>9.0</td>\n",
       "      <td>1.0</td>\n",
       "      <td>0.0</td>\n",
       "      <td>0.0</td>\n",
       "      <td>581.0</td>\n",
       "      <td>581.0</td>\n",
       "    </tr>\n",
       "    <tr>\n",
       "      <th>4</th>\n",
       "      <td>20005</td>\n",
       "      <td>1</td>\n",
       "      <td>10</td>\n",
       "      <td>presencial</td>\n",
       "      <td>1</td>\n",
       "      <td>F</td>\n",
       "      <td>55</td>\n",
       "      <td>1</td>\n",
       "      <td>0</td>\n",
       "      <td>0</td>\n",
       "      <td>...</td>\n",
       "      <td></td>\n",
       "      <td>N</td>\n",
       "      <td></td>\n",
       "      <td>0</td>\n",
       "      <td>0.0</td>\n",
       "      <td>1.0</td>\n",
       "      <td>0.0</td>\n",
       "      <td>0.0</td>\n",
       "      <td>573.0</td>\n",
       "      <td>573.0</td>\n",
       "    </tr>\n",
       "  </tbody>\n",
       "</table>\n",
       "<p>5 rows × 41 columns</p>\n",
       "</div>"
      ],
      "text/plain": [
       "   id_solicitante  produto_solicitado  dia_vencimento forma_envio_solicitacao  \\\n",
       "0           20001                   1              25              presencial   \n",
       "1           20002                   1              10                internet   \n",
       "2           20003                   1              10                internet   \n",
       "3           20004                   1              10              presencial   \n",
       "4           20005                   1              10              presencial   \n",
       "\n",
       "   tipo_endereco sexo  idade  estado_civil  qtde_dependentes  grau_instrucao  \\\n",
       "0              1    M     37             2                 0               0   \n",
       "1              1    F     31             2                 0               0   \n",
       "2              1    F     18             2                 0               0   \n",
       "3              1    F     55             2                 0               0   \n",
       "4              1    F     55             1                 0               0   \n",
       "\n",
       "   ...  estado_onde_trabalha possui_telefone_trabalho  \\\n",
       "0  ...                                              N   \n",
       "1  ...                    RJ                        N   \n",
       "2  ...                    RS                        N   \n",
       "3  ...                                              N   \n",
       "4  ...                                              N   \n",
       "\n",
       "  codigo_area_telefone_trabalho meses_no_trabalho profissao  ocupacao  \\\n",
       "0                                               0       0.0       0.0   \n",
       "1                                               0       9.0       5.0   \n",
       "2                                               0       9.0       2.0   \n",
       "3                                               0       9.0       1.0   \n",
       "4                                               0       0.0       1.0   \n",
       "\n",
       "   profissao_companheiro grau_instrucao_companheiro  local_onde_reside  \\\n",
       "0                    0.0                        0.0              384.0   \n",
       "1                    NaN                        NaN              275.0   \n",
       "2                    NaN                        NaN              948.0   \n",
       "3                    0.0                        0.0              581.0   \n",
       "4                    0.0                        0.0              573.0   \n",
       "\n",
       "   local_onde_trabalha  \n",
       "0                384.0  \n",
       "1                275.0  \n",
       "2                948.0  \n",
       "3                581.0  \n",
       "4                573.0  \n",
       "\n",
       "[5 rows x 41 columns]"
      ]
     },
     "execution_count": 6,
     "metadata": {},
     "output_type": "execute_result"
    }
   ],
   "source": [
    "df_teste.head()"
   ]
  },
  {
   "cell_type": "code",
   "execution_count": 7,
   "metadata": {},
   "outputs": [
    {
     "data": {
      "text/html": [
       "<div>\n",
       "<style scoped>\n",
       "    .dataframe tbody tr th:only-of-type {\n",
       "        vertical-align: middle;\n",
       "    }\n",
       "\n",
       "    .dataframe tbody tr th {\n",
       "        vertical-align: top;\n",
       "    }\n",
       "\n",
       "    .dataframe thead th {\n",
       "        text-align: right;\n",
       "    }\n",
       "</style>\n",
       "<table border=\"1\" class=\"dataframe\">\n",
       "  <thead>\n",
       "    <tr style=\"text-align: right;\">\n",
       "      <th></th>\n",
       "      <th>id_solicitante</th>\n",
       "      <th>produto_solicitado</th>\n",
       "      <th>dia_vencimento</th>\n",
       "      <th>forma_envio_solicitacao</th>\n",
       "      <th>tipo_endereco</th>\n",
       "      <th>sexo</th>\n",
       "      <th>idade</th>\n",
       "      <th>estado_civil</th>\n",
       "      <th>qtde_dependentes</th>\n",
       "      <th>grau_instrucao</th>\n",
       "      <th>...</th>\n",
       "      <th>possui_telefone_trabalho</th>\n",
       "      <th>codigo_area_telefone_trabalho</th>\n",
       "      <th>meses_no_trabalho</th>\n",
       "      <th>profissao</th>\n",
       "      <th>ocupacao</th>\n",
       "      <th>profissao_companheiro</th>\n",
       "      <th>grau_instrucao_companheiro</th>\n",
       "      <th>local_onde_reside</th>\n",
       "      <th>local_onde_trabalha</th>\n",
       "      <th>inadimplente</th>\n",
       "    </tr>\n",
       "  </thead>\n",
       "  <tbody>\n",
       "    <tr>\n",
       "      <th>0</th>\n",
       "      <td>1</td>\n",
       "      <td>1</td>\n",
       "      <td>10</td>\n",
       "      <td>presencial</td>\n",
       "      <td>1</td>\n",
       "      <td>M</td>\n",
       "      <td>85</td>\n",
       "      <td>2</td>\n",
       "      <td>0</td>\n",
       "      <td>0</td>\n",
       "      <td>...</td>\n",
       "      <td>N</td>\n",
       "      <td></td>\n",
       "      <td>0</td>\n",
       "      <td>9.0</td>\n",
       "      <td>1.0</td>\n",
       "      <td>0.0</td>\n",
       "      <td>0.0</td>\n",
       "      <td>600.0</td>\n",
       "      <td>600.0</td>\n",
       "      <td>0</td>\n",
       "    </tr>\n",
       "    <tr>\n",
       "      <th>1</th>\n",
       "      <td>2</td>\n",
       "      <td>1</td>\n",
       "      <td>25</td>\n",
       "      <td>internet</td>\n",
       "      <td>1</td>\n",
       "      <td>F</td>\n",
       "      <td>38</td>\n",
       "      <td>1</td>\n",
       "      <td>0</td>\n",
       "      <td>0</td>\n",
       "      <td>...</td>\n",
       "      <td>N</td>\n",
       "      <td></td>\n",
       "      <td>0</td>\n",
       "      <td>2.0</td>\n",
       "      <td>5.0</td>\n",
       "      <td>NaN</td>\n",
       "      <td>NaN</td>\n",
       "      <td>492.0</td>\n",
       "      <td>492.0</td>\n",
       "      <td>0</td>\n",
       "    </tr>\n",
       "    <tr>\n",
       "      <th>2</th>\n",
       "      <td>3</td>\n",
       "      <td>1</td>\n",
       "      <td>20</td>\n",
       "      <td>internet</td>\n",
       "      <td>1</td>\n",
       "      <td>F</td>\n",
       "      <td>37</td>\n",
       "      <td>2</td>\n",
       "      <td>0</td>\n",
       "      <td>0</td>\n",
       "      <td>...</td>\n",
       "      <td>N</td>\n",
       "      <td></td>\n",
       "      <td>0</td>\n",
       "      <td>NaN</td>\n",
       "      <td>NaN</td>\n",
       "      <td>NaN</td>\n",
       "      <td>NaN</td>\n",
       "      <td>450.0</td>\n",
       "      <td>450.0</td>\n",
       "      <td>1</td>\n",
       "    </tr>\n",
       "    <tr>\n",
       "      <th>3</th>\n",
       "      <td>4</td>\n",
       "      <td>1</td>\n",
       "      <td>20</td>\n",
       "      <td>internet</td>\n",
       "      <td>1</td>\n",
       "      <td>M</td>\n",
       "      <td>37</td>\n",
       "      <td>1</td>\n",
       "      <td>1</td>\n",
       "      <td>0</td>\n",
       "      <td>...</td>\n",
       "      <td>Y</td>\n",
       "      <td>54</td>\n",
       "      <td>0</td>\n",
       "      <td>9.0</td>\n",
       "      <td>2.0</td>\n",
       "      <td>NaN</td>\n",
       "      <td>NaN</td>\n",
       "      <td>932.0</td>\n",
       "      <td>932.0</td>\n",
       "      <td>1</td>\n",
       "    </tr>\n",
       "    <tr>\n",
       "      <th>4</th>\n",
       "      <td>5</td>\n",
       "      <td>7</td>\n",
       "      <td>1</td>\n",
       "      <td>internet</td>\n",
       "      <td>1</td>\n",
       "      <td>F</td>\n",
       "      <td>51</td>\n",
       "      <td>1</td>\n",
       "      <td>3</td>\n",
       "      <td>0</td>\n",
       "      <td>...</td>\n",
       "      <td>N</td>\n",
       "      <td></td>\n",
       "      <td>0</td>\n",
       "      <td>9.0</td>\n",
       "      <td>5.0</td>\n",
       "      <td>NaN</td>\n",
       "      <td>NaN</td>\n",
       "      <td>440.0</td>\n",
       "      <td>440.0</td>\n",
       "      <td>1</td>\n",
       "    </tr>\n",
       "  </tbody>\n",
       "</table>\n",
       "<p>5 rows × 42 columns</p>\n",
       "</div>"
      ],
      "text/plain": [
       "   id_solicitante  produto_solicitado  dia_vencimento forma_envio_solicitacao  \\\n",
       "0               1                   1              10              presencial   \n",
       "1               2                   1              25                internet   \n",
       "2               3                   1              20                internet   \n",
       "3               4                   1              20                internet   \n",
       "4               5                   7               1                internet   \n",
       "\n",
       "   tipo_endereco sexo  idade  estado_civil  qtde_dependentes  grau_instrucao  \\\n",
       "0              1    M     85             2                 0               0   \n",
       "1              1    F     38             1                 0               0   \n",
       "2              1    F     37             2                 0               0   \n",
       "3              1    M     37             1                 1               0   \n",
       "4              1    F     51             1                 3               0   \n",
       "\n",
       "   ...  possui_telefone_trabalho codigo_area_telefone_trabalho  \\\n",
       "0  ...                         N                                 \n",
       "1  ...                         N                                 \n",
       "2  ...                         N                                 \n",
       "3  ...                         Y                            54   \n",
       "4  ...                         N                                 \n",
       "\n",
       "  meses_no_trabalho profissao ocupacao  profissao_companheiro  \\\n",
       "0                 0       9.0      1.0                    0.0   \n",
       "1                 0       2.0      5.0                    NaN   \n",
       "2                 0       NaN      NaN                    NaN   \n",
       "3                 0       9.0      2.0                    NaN   \n",
       "4                 0       9.0      5.0                    NaN   \n",
       "\n",
       "   grau_instrucao_companheiro local_onde_reside  local_onde_trabalha  \\\n",
       "0                         0.0             600.0                600.0   \n",
       "1                         NaN             492.0                492.0   \n",
       "2                         NaN             450.0                450.0   \n",
       "3                         NaN             932.0                932.0   \n",
       "4                         NaN             440.0                440.0   \n",
       "\n",
       "   inadimplente  \n",
       "0             0  \n",
       "1             0  \n",
       "2             1  \n",
       "3             1  \n",
       "4             1  \n",
       "\n",
       "[5 rows x 42 columns]"
      ]
     },
     "execution_count": 7,
     "metadata": {},
     "output_type": "execute_result"
    }
   ],
   "source": [
    "df_treinamento.head()"
   ]
  },
  {
   "cell_type": "markdown",
   "metadata": {},
   "source": [
    "Tratando dados"
   ]
  },
  {
   "cell_type": "code",
   "execution_count": 8,
   "metadata": {},
   "outputs": [
    {
     "data": {
      "text/plain": [
       "Index(['id_solicitante', 'produto_solicitado', 'dia_vencimento',\n",
       "       'forma_envio_solicitacao', 'tipo_endereco', 'sexo', 'idade',\n",
       "       'estado_civil', 'qtde_dependentes', 'grau_instrucao', 'nacionalidade',\n",
       "       'estado_onde_nasceu', 'estado_onde_reside',\n",
       "       'possui_telefone_residencial', 'codigo_area_telefone_residencial',\n",
       "       'tipo_residencia', 'meses_na_residencia', 'possui_telefone_celular',\n",
       "       'possui_email', 'renda_mensal_regular', 'renda_extra',\n",
       "       'possui_cartao_visa', 'possui_cartao_mastercard',\n",
       "       'possui_cartao_diners', 'possui_cartao_amex', 'possui_outros_cartoes',\n",
       "       'qtde_contas_bancarias', 'qtde_contas_bancarias_especiais',\n",
       "       'valor_patrimonio_pessoal', 'possui_carro',\n",
       "       'vinculo_formal_com_empresa', 'estado_onde_trabalha',\n",
       "       'possui_telefone_trabalho', 'codigo_area_telefone_trabalho',\n",
       "       'meses_no_trabalho', 'profissao', 'ocupacao', 'profissao_companheiro',\n",
       "       'grau_instrucao_companheiro', 'local_onde_reside',\n",
       "       'local_onde_trabalha', 'inadimplente'],\n",
       "      dtype='object')"
      ]
     },
     "execution_count": 8,
     "metadata": {},
     "output_type": "execute_result"
    }
   ],
   "source": [
    "df_treinamento.columns"
   ]
  },
  {
   "cell_type": "markdown",
   "metadata": {},
   "source": [
    "Tratando dados de treinamento"
   ]
  },
  {
   "cell_type": "code",
   "execution_count": 9,
   "metadata": {},
   "outputs": [],
   "source": [
    "deixar_treina = { 'id_solicitante':0,\n",
    "                'produto_solicitado':1,\n",
    "                 'dia_vencimento':2,\n",
    "                 'idade':6,\n",
    "                'estado_civil':7,\n",
    "                 'qtde_dependentes':8,\n",
    "                 'nacionalidade':10,\n",
    "                 'tipo_residencia':15,\n",
    "                 'renda_mensal_regular':19, \n",
    "                 'renda_extra':20,\n",
    "                 'possui_cartao_visa':21,\n",
    "                 'possui_cartao_mastercard':22,\n",
    "                 'possui_cartao_diners':23, \n",
    "                 'possui_cartao_amex':24, \n",
    "                 'possui_outros_cartoes':25,\n",
    "                 'qtde_contas_bancarias':26,\n",
    "                 'valor_patrimonio_pessoal':28, \n",
    "                 'possui_carro':29, \n",
    "                 'ocupacao':36, \n",
    "                 'local_onde_reside':39,\n",
    "                 'local_onde_trabalha':40, \n",
    "                 'inadimplente':41}\n",
    "      \n"
   ]
  },
  {
   "cell_type": "code",
   "execution_count": 10,
   "metadata": {},
   "outputs": [],
   "source": [
    "indices = []\n",
    "for i in deixar_treina:\n",
    "    indices.append(deixar_treina[i])\n",
    "    \n",
    "    "
   ]
  },
  {
   "cell_type": "code",
   "execution_count": 11,
   "metadata": {},
   "outputs": [],
   "source": [
    "df_treinamento = df_treinamento.iloc[:,indices]"
   ]
  },
  {
   "cell_type": "code",
   "execution_count": 12,
   "metadata": {},
   "outputs": [
    {
     "data": {
      "text/html": [
       "<div>\n",
       "<style scoped>\n",
       "    .dataframe tbody tr th:only-of-type {\n",
       "        vertical-align: middle;\n",
       "    }\n",
       "\n",
       "    .dataframe tbody tr th {\n",
       "        vertical-align: top;\n",
       "    }\n",
       "\n",
       "    .dataframe thead th {\n",
       "        text-align: right;\n",
       "    }\n",
       "</style>\n",
       "<table border=\"1\" class=\"dataframe\">\n",
       "  <thead>\n",
       "    <tr style=\"text-align: right;\">\n",
       "      <th></th>\n",
       "      <th>id_solicitante</th>\n",
       "      <th>produto_solicitado</th>\n",
       "      <th>dia_vencimento</th>\n",
       "      <th>idade</th>\n",
       "      <th>estado_civil</th>\n",
       "      <th>qtde_dependentes</th>\n",
       "      <th>nacionalidade</th>\n",
       "      <th>tipo_residencia</th>\n",
       "      <th>renda_mensal_regular</th>\n",
       "      <th>renda_extra</th>\n",
       "      <th>...</th>\n",
       "      <th>possui_cartao_diners</th>\n",
       "      <th>possui_cartao_amex</th>\n",
       "      <th>possui_outros_cartoes</th>\n",
       "      <th>qtde_contas_bancarias</th>\n",
       "      <th>valor_patrimonio_pessoal</th>\n",
       "      <th>possui_carro</th>\n",
       "      <th>ocupacao</th>\n",
       "      <th>local_onde_reside</th>\n",
       "      <th>local_onde_trabalha</th>\n",
       "      <th>inadimplente</th>\n",
       "    </tr>\n",
       "  </thead>\n",
       "  <tbody>\n",
       "    <tr>\n",
       "      <th>0</th>\n",
       "      <td>1</td>\n",
       "      <td>1</td>\n",
       "      <td>10</td>\n",
       "      <td>85</td>\n",
       "      <td>2</td>\n",
       "      <td>0</td>\n",
       "      <td>1</td>\n",
       "      <td>1.0</td>\n",
       "      <td>480.0</td>\n",
       "      <td>0.0</td>\n",
       "      <td>...</td>\n",
       "      <td>0</td>\n",
       "      <td>0</td>\n",
       "      <td>0</td>\n",
       "      <td>1</td>\n",
       "      <td>0.0</td>\n",
       "      <td>1</td>\n",
       "      <td>1.0</td>\n",
       "      <td>600.0</td>\n",
       "      <td>600.0</td>\n",
       "      <td>0</td>\n",
       "    </tr>\n",
       "    <tr>\n",
       "      <th>1</th>\n",
       "      <td>2</td>\n",
       "      <td>1</td>\n",
       "      <td>25</td>\n",
       "      <td>38</td>\n",
       "      <td>1</td>\n",
       "      <td>0</td>\n",
       "      <td>1</td>\n",
       "      <td>1.0</td>\n",
       "      <td>380.0</td>\n",
       "      <td>0.0</td>\n",
       "      <td>...</td>\n",
       "      <td>0</td>\n",
       "      <td>0</td>\n",
       "      <td>0</td>\n",
       "      <td>0</td>\n",
       "      <td>0.0</td>\n",
       "      <td>0</td>\n",
       "      <td>5.0</td>\n",
       "      <td>492.0</td>\n",
       "      <td>492.0</td>\n",
       "      <td>0</td>\n",
       "    </tr>\n",
       "    <tr>\n",
       "      <th>2</th>\n",
       "      <td>3</td>\n",
       "      <td>1</td>\n",
       "      <td>20</td>\n",
       "      <td>37</td>\n",
       "      <td>2</td>\n",
       "      <td>0</td>\n",
       "      <td>1</td>\n",
       "      <td>5.0</td>\n",
       "      <td>600.0</td>\n",
       "      <td>0.0</td>\n",
       "      <td>...</td>\n",
       "      <td>0</td>\n",
       "      <td>0</td>\n",
       "      <td>0</td>\n",
       "      <td>0</td>\n",
       "      <td>0.0</td>\n",
       "      <td>0</td>\n",
       "      <td>NaN</td>\n",
       "      <td>450.0</td>\n",
       "      <td>450.0</td>\n",
       "      <td>1</td>\n",
       "    </tr>\n",
       "    <tr>\n",
       "      <th>3</th>\n",
       "      <td>4</td>\n",
       "      <td>1</td>\n",
       "      <td>20</td>\n",
       "      <td>37</td>\n",
       "      <td>1</td>\n",
       "      <td>1</td>\n",
       "      <td>1</td>\n",
       "      <td>1.0</td>\n",
       "      <td>460.0</td>\n",
       "      <td>0.0</td>\n",
       "      <td>...</td>\n",
       "      <td>0</td>\n",
       "      <td>0</td>\n",
       "      <td>0</td>\n",
       "      <td>0</td>\n",
       "      <td>0.0</td>\n",
       "      <td>0</td>\n",
       "      <td>2.0</td>\n",
       "      <td>932.0</td>\n",
       "      <td>932.0</td>\n",
       "      <td>1</td>\n",
       "    </tr>\n",
       "    <tr>\n",
       "      <th>4</th>\n",
       "      <td>5</td>\n",
       "      <td>7</td>\n",
       "      <td>1</td>\n",
       "      <td>51</td>\n",
       "      <td>1</td>\n",
       "      <td>3</td>\n",
       "      <td>1</td>\n",
       "      <td>0.0</td>\n",
       "      <td>687.0</td>\n",
       "      <td>600.0</td>\n",
       "      <td>...</td>\n",
       "      <td>0</td>\n",
       "      <td>0</td>\n",
       "      <td>0</td>\n",
       "      <td>0</td>\n",
       "      <td>0.0</td>\n",
       "      <td>1</td>\n",
       "      <td>5.0</td>\n",
       "      <td>440.0</td>\n",
       "      <td>440.0</td>\n",
       "      <td>1</td>\n",
       "    </tr>\n",
       "  </tbody>\n",
       "</table>\n",
       "<p>5 rows × 22 columns</p>\n",
       "</div>"
      ],
      "text/plain": [
       "   id_solicitante  produto_solicitado  dia_vencimento  idade  estado_civil  \\\n",
       "0               1                   1              10     85             2   \n",
       "1               2                   1              25     38             1   \n",
       "2               3                   1              20     37             2   \n",
       "3               4                   1              20     37             1   \n",
       "4               5                   7               1     51             1   \n",
       "\n",
       "   qtde_dependentes  nacionalidade  tipo_residencia  renda_mensal_regular  \\\n",
       "0                 0              1              1.0                 480.0   \n",
       "1                 0              1              1.0                 380.0   \n",
       "2                 0              1              5.0                 600.0   \n",
       "3                 1              1              1.0                 460.0   \n",
       "4                 3              1              0.0                 687.0   \n",
       "\n",
       "   renda_extra  ...  possui_cartao_diners  possui_cartao_amex  \\\n",
       "0          0.0  ...                     0                   0   \n",
       "1          0.0  ...                     0                   0   \n",
       "2          0.0  ...                     0                   0   \n",
       "3          0.0  ...                     0                   0   \n",
       "4        600.0  ...                     0                   0   \n",
       "\n",
       "   possui_outros_cartoes  qtde_contas_bancarias  valor_patrimonio_pessoal  \\\n",
       "0                      0                      1                       0.0   \n",
       "1                      0                      0                       0.0   \n",
       "2                      0                      0                       0.0   \n",
       "3                      0                      0                       0.0   \n",
       "4                      0                      0                       0.0   \n",
       "\n",
       "   possui_carro  ocupacao  local_onde_reside  local_onde_trabalha  \\\n",
       "0             1       1.0              600.0                600.0   \n",
       "1             0       5.0              492.0                492.0   \n",
       "2             0       NaN              450.0                450.0   \n",
       "3             0       2.0              932.0                932.0   \n",
       "4             1       5.0              440.0                440.0   \n",
       "\n",
       "   inadimplente  \n",
       "0             0  \n",
       "1             0  \n",
       "2             1  \n",
       "3             1  \n",
       "4             1  \n",
       "\n",
       "[5 rows x 22 columns]"
      ]
     },
     "execution_count": 12,
     "metadata": {},
     "output_type": "execute_result"
    }
   ],
   "source": [
    "df_treinamento.head()"
   ]
  },
  {
   "cell_type": "markdown",
   "metadata": {},
   "source": [
    "contando valores ausentes no conjunto de treinamento"
   ]
  },
  {
   "cell_type": "code",
   "execution_count": 13,
   "metadata": {},
   "outputs": [
    {
     "data": {
      "text/plain": [
       "id_solicitante                 0\n",
       "produto_solicitado             0\n",
       "dia_vencimento                 0\n",
       "idade                          0\n",
       "estado_civil                   0\n",
       "qtde_dependentes               0\n",
       "nacionalidade                  0\n",
       "tipo_residencia              536\n",
       "renda_mensal_regular           0\n",
       "renda_extra                    0\n",
       "possui_cartao_visa             0\n",
       "possui_cartao_mastercard       0\n",
       "possui_cartao_diners           0\n",
       "possui_cartao_amex             0\n",
       "possui_outros_cartoes          0\n",
       "qtde_contas_bancarias          0\n",
       "valor_patrimonio_pessoal       0\n",
       "possui_carro                   0\n",
       "ocupacao                    2978\n",
       "local_onde_reside              0\n",
       "local_onde_trabalha            0\n",
       "inadimplente                   0\n",
       "dtype: int64"
      ]
     },
     "execution_count": 13,
     "metadata": {},
     "output_type": "execute_result"
    }
   ],
   "source": [
    "df_treinamento.isnull().sum()"
   ]
  },
  {
   "cell_type": "markdown",
   "metadata": {},
   "source": [
    "Extrair a mediana de tipo_residencia e preencher os valores ausentes com ela"
   ]
  },
  {
   "cell_type": "code",
   "execution_count": 26,
   "metadata": {},
   "outputs": [],
   "source": [
    "tipo_residencia_mediana = df_treinamento[\"tipo_residencia\"].median()\n",
    "ocupacao_mediana = df_treinamento[\"ocupacao\"].median()\n",
    "values = {\"tipo_residencia\":tipo_residencia_mediana,\n",
    "         \"ocupacao\":ocupacao_mediana}\n",
    "\n",
    "df_treinamento[[\"tipo_residencia\",\"ocupacao\"]]=df_treinamento[[\"tipo_residencia\",\"ocupacao\"]].fillna(value=values)"
   ]
  },
  {
   "cell_type": "code",
   "execution_count": 27,
   "metadata": {},
   "outputs": [
    {
     "data": {
      "text/plain": [
       "id_solicitante              0\n",
       "produto_solicitado          0\n",
       "dia_vencimento              0\n",
       "idade                       0\n",
       "estado_civil                0\n",
       "qtde_dependentes            0\n",
       "nacionalidade               0\n",
       "tipo_residencia             0\n",
       "renda_mensal_regular        0\n",
       "renda_extra                 0\n",
       "possui_cartao_visa          0\n",
       "possui_cartao_mastercard    0\n",
       "possui_cartao_diners        0\n",
       "possui_cartao_amex          0\n",
       "possui_outros_cartoes       0\n",
       "qtde_contas_bancarias       0\n",
       "valor_patrimonio_pessoal    0\n",
       "possui_carro                0\n",
       "ocupacao                    0\n",
       "local_onde_reside           0\n",
       "local_onde_trabalha         0\n",
       "inadimplente                0\n",
       "dtype: int64"
      ]
     },
     "execution_count": 27,
     "metadata": {},
     "output_type": "execute_result"
    }
   ],
   "source": [
    "df_treinamento.isnull().sum()"
   ]
  },
  {
   "cell_type": "markdown",
   "metadata": {},
   "source": [
    "Tratando dados de teste"
   ]
  },
  {
   "cell_type": "code",
   "execution_count": 16,
   "metadata": {},
   "outputs": [],
   "source": [
    "deixar_teste = { 'id_solicitante':0,\n",
    "                'produto_solicitado':1,\n",
    "                 'dia_vencimento':2,\n",
    "                 'idade':6,\n",
    "                'estado_civil':7,\n",
    "                 'qtde_dependentes':8,\n",
    "                 'nacionalidade':10,\n",
    "                 'tipo_residencia':15,\n",
    "                 'renda_mensal_regular':19, \n",
    "                 'renda_extra':20,\n",
    "                 'possui_cartao_visa':21,\n",
    "                 'possui_cartao_mastercard':22,\n",
    "                 'possui_cartao_diners':23, \n",
    "                 'possui_cartao_amex':24, \n",
    "                 'possui_outros_cartoes':25,\n",
    "                 'qtde_contas_bancarias':26,\n",
    "                 'valor_patrimonio_pessoal':28, \n",
    "                 'possui_carro':29, \n",
    "                 'ocupacao':36, \n",
    "                 'local_onde_reside':39,\n",
    "                 'local_onde_trabalha':40}"
   ]
  },
  {
   "cell_type": "code",
   "execution_count": 17,
   "metadata": {},
   "outputs": [],
   "source": [
    "indices_teste = []\n",
    "for i in deixar_teste:\n",
    "    indices_teste.append(deixar_teste[i])"
   ]
  },
  {
   "cell_type": "code",
   "execution_count": 18,
   "metadata": {},
   "outputs": [],
   "source": [
    "df_teste = df_teste.iloc[:,indices_teste]"
   ]
  },
  {
   "cell_type": "code",
   "execution_count": 19,
   "metadata": {},
   "outputs": [
    {
     "data": {
      "text/html": [
       "<div>\n",
       "<style scoped>\n",
       "    .dataframe tbody tr th:only-of-type {\n",
       "        vertical-align: middle;\n",
       "    }\n",
       "\n",
       "    .dataframe tbody tr th {\n",
       "        vertical-align: top;\n",
       "    }\n",
       "\n",
       "    .dataframe thead th {\n",
       "        text-align: right;\n",
       "    }\n",
       "</style>\n",
       "<table border=\"1\" class=\"dataframe\">\n",
       "  <thead>\n",
       "    <tr style=\"text-align: right;\">\n",
       "      <th></th>\n",
       "      <th>id_solicitante</th>\n",
       "      <th>produto_solicitado</th>\n",
       "      <th>dia_vencimento</th>\n",
       "      <th>idade</th>\n",
       "      <th>estado_civil</th>\n",
       "      <th>qtde_dependentes</th>\n",
       "      <th>nacionalidade</th>\n",
       "      <th>tipo_residencia</th>\n",
       "      <th>renda_mensal_regular</th>\n",
       "      <th>renda_extra</th>\n",
       "      <th>...</th>\n",
       "      <th>possui_cartao_mastercard</th>\n",
       "      <th>possui_cartao_diners</th>\n",
       "      <th>possui_cartao_amex</th>\n",
       "      <th>possui_outros_cartoes</th>\n",
       "      <th>qtde_contas_bancarias</th>\n",
       "      <th>valor_patrimonio_pessoal</th>\n",
       "      <th>possui_carro</th>\n",
       "      <th>ocupacao</th>\n",
       "      <th>local_onde_reside</th>\n",
       "      <th>local_onde_trabalha</th>\n",
       "    </tr>\n",
       "  </thead>\n",
       "  <tbody>\n",
       "    <tr>\n",
       "      <th>0</th>\n",
       "      <td>20001</td>\n",
       "      <td>1</td>\n",
       "      <td>25</td>\n",
       "      <td>37</td>\n",
       "      <td>2</td>\n",
       "      <td>0</td>\n",
       "      <td>1</td>\n",
       "      <td>1.0</td>\n",
       "      <td>1800.00</td>\n",
       "      <td>0.0</td>\n",
       "      <td>...</td>\n",
       "      <td>0</td>\n",
       "      <td>0</td>\n",
       "      <td>0</td>\n",
       "      <td>0</td>\n",
       "      <td>1</td>\n",
       "      <td>0.0</td>\n",
       "      <td>1</td>\n",
       "      <td>0.0</td>\n",
       "      <td>384.0</td>\n",
       "      <td>384.0</td>\n",
       "    </tr>\n",
       "    <tr>\n",
       "      <th>1</th>\n",
       "      <td>20002</td>\n",
       "      <td>1</td>\n",
       "      <td>10</td>\n",
       "      <td>31</td>\n",
       "      <td>2</td>\n",
       "      <td>0</td>\n",
       "      <td>1</td>\n",
       "      <td>1.0</td>\n",
       "      <td>424.88</td>\n",
       "      <td>0.0</td>\n",
       "      <td>...</td>\n",
       "      <td>0</td>\n",
       "      <td>0</td>\n",
       "      <td>0</td>\n",
       "      <td>0</td>\n",
       "      <td>0</td>\n",
       "      <td>0.0</td>\n",
       "      <td>0</td>\n",
       "      <td>5.0</td>\n",
       "      <td>275.0</td>\n",
       "      <td>275.0</td>\n",
       "    </tr>\n",
       "    <tr>\n",
       "      <th>2</th>\n",
       "      <td>20003</td>\n",
       "      <td>1</td>\n",
       "      <td>10</td>\n",
       "      <td>18</td>\n",
       "      <td>2</td>\n",
       "      <td>0</td>\n",
       "      <td>1</td>\n",
       "      <td>1.0</td>\n",
       "      <td>400.00</td>\n",
       "      <td>0.0</td>\n",
       "      <td>...</td>\n",
       "      <td>0</td>\n",
       "      <td>0</td>\n",
       "      <td>0</td>\n",
       "      <td>0</td>\n",
       "      <td>0</td>\n",
       "      <td>0.0</td>\n",
       "      <td>0</td>\n",
       "      <td>2.0</td>\n",
       "      <td>948.0</td>\n",
       "      <td>948.0</td>\n",
       "    </tr>\n",
       "    <tr>\n",
       "      <th>3</th>\n",
       "      <td>20004</td>\n",
       "      <td>1</td>\n",
       "      <td>10</td>\n",
       "      <td>55</td>\n",
       "      <td>2</td>\n",
       "      <td>0</td>\n",
       "      <td>1</td>\n",
       "      <td>1.0</td>\n",
       "      <td>1400.00</td>\n",
       "      <td>0.0</td>\n",
       "      <td>...</td>\n",
       "      <td>0</td>\n",
       "      <td>0</td>\n",
       "      <td>0</td>\n",
       "      <td>0</td>\n",
       "      <td>1</td>\n",
       "      <td>0.0</td>\n",
       "      <td>1</td>\n",
       "      <td>1.0</td>\n",
       "      <td>581.0</td>\n",
       "      <td>581.0</td>\n",
       "    </tr>\n",
       "    <tr>\n",
       "      <th>4</th>\n",
       "      <td>20005</td>\n",
       "      <td>1</td>\n",
       "      <td>10</td>\n",
       "      <td>55</td>\n",
       "      <td>1</td>\n",
       "      <td>0</td>\n",
       "      <td>1</td>\n",
       "      <td>1.0</td>\n",
       "      <td>350.00</td>\n",
       "      <td>0.0</td>\n",
       "      <td>...</td>\n",
       "      <td>0</td>\n",
       "      <td>0</td>\n",
       "      <td>0</td>\n",
       "      <td>0</td>\n",
       "      <td>1</td>\n",
       "      <td>0.0</td>\n",
       "      <td>1</td>\n",
       "      <td>1.0</td>\n",
       "      <td>573.0</td>\n",
       "      <td>573.0</td>\n",
       "    </tr>\n",
       "  </tbody>\n",
       "</table>\n",
       "<p>5 rows × 21 columns</p>\n",
       "</div>"
      ],
      "text/plain": [
       "   id_solicitante  produto_solicitado  dia_vencimento  idade  estado_civil  \\\n",
       "0           20001                   1              25     37             2   \n",
       "1           20002                   1              10     31             2   \n",
       "2           20003                   1              10     18             2   \n",
       "3           20004                   1              10     55             2   \n",
       "4           20005                   1              10     55             1   \n",
       "\n",
       "   qtde_dependentes  nacionalidade  tipo_residencia  renda_mensal_regular  \\\n",
       "0                 0              1              1.0               1800.00   \n",
       "1                 0              1              1.0                424.88   \n",
       "2                 0              1              1.0                400.00   \n",
       "3                 0              1              1.0               1400.00   \n",
       "4                 0              1              1.0                350.00   \n",
       "\n",
       "   renda_extra  ...  possui_cartao_mastercard  possui_cartao_diners  \\\n",
       "0          0.0  ...                         0                     0   \n",
       "1          0.0  ...                         0                     0   \n",
       "2          0.0  ...                         0                     0   \n",
       "3          0.0  ...                         0                     0   \n",
       "4          0.0  ...                         0                     0   \n",
       "\n",
       "   possui_cartao_amex  possui_outros_cartoes  qtde_contas_bancarias  \\\n",
       "0                   0                      0                      1   \n",
       "1                   0                      0                      0   \n",
       "2                   0                      0                      0   \n",
       "3                   0                      0                      1   \n",
       "4                   0                      0                      1   \n",
       "\n",
       "   valor_patrimonio_pessoal  possui_carro  ocupacao  local_onde_reside  \\\n",
       "0                       0.0             1       0.0              384.0   \n",
       "1                       0.0             0       5.0              275.0   \n",
       "2                       0.0             0       2.0              948.0   \n",
       "3                       0.0             1       1.0              581.0   \n",
       "4                       0.0             1       1.0              573.0   \n",
       "\n",
       "   local_onde_trabalha  \n",
       "0                384.0  \n",
       "1                275.0  \n",
       "2                948.0  \n",
       "3                581.0  \n",
       "4                573.0  \n",
       "\n",
       "[5 rows x 21 columns]"
      ]
     },
     "execution_count": 19,
     "metadata": {},
     "output_type": "execute_result"
    }
   ],
   "source": [
    "df_teste.head()"
   ]
  },
  {
   "cell_type": "code",
   "execution_count": 20,
   "metadata": {},
   "outputs": [
    {
     "data": {
      "text/plain": [
       "id_solicitante                0\n",
       "produto_solicitado            0\n",
       "dia_vencimento                0\n",
       "idade                         0\n",
       "estado_civil                  0\n",
       "qtde_dependentes              0\n",
       "nacionalidade                 0\n",
       "tipo_residencia             125\n",
       "renda_mensal_regular          0\n",
       "renda_extra                   0\n",
       "possui_cartao_visa            0\n",
       "possui_cartao_mastercard      0\n",
       "possui_cartao_diners          0\n",
       "possui_cartao_amex            0\n",
       "possui_outros_cartoes         0\n",
       "qtde_contas_bancarias         0\n",
       "valor_patrimonio_pessoal      0\n",
       "possui_carro                  0\n",
       "ocupacao                    690\n",
       "local_onde_reside             0\n",
       "local_onde_trabalha           0\n",
       "dtype: int64"
      ]
     },
     "execution_count": 20,
     "metadata": {},
     "output_type": "execute_result"
    }
   ],
   "source": [
    "df_teste.isnull().sum()"
   ]
  },
  {
   "cell_type": "code",
   "execution_count": 28,
   "metadata": {},
   "outputs": [],
   "source": [
    "tipo_residencia_mediana_teste = df_teste[\"tipo_residencia\"].median()\n",
    "ocupacao_mediana_teste = df_teste[\"ocupacao\"].median()\n",
    "values_teste = {\"tipo_residencia\":tipo_residencia_mediana_teste,\n",
    "         \"ocupacao\":ocupacao_mediana_teste}\n",
    "\n",
    "df_teste[[\"tipo_residencia\",\"ocupacao\"]] = df_teste[[\"tipo_residencia\",\"ocupacao\"]].fillna(value=values_teste)"
   ]
  },
  {
   "cell_type": "code",
   "execution_count": 29,
   "metadata": {},
   "outputs": [
    {
     "data": {
      "text/plain": [
       "id_solicitante              0\n",
       "produto_solicitado          0\n",
       "dia_vencimento              0\n",
       "idade                       0\n",
       "estado_civil                0\n",
       "qtde_dependentes            0\n",
       "nacionalidade               0\n",
       "tipo_residencia             0\n",
       "renda_mensal_regular        0\n",
       "renda_extra                 0\n",
       "possui_cartao_visa          0\n",
       "possui_cartao_mastercard    0\n",
       "possui_cartao_diners        0\n",
       "possui_cartao_amex          0\n",
       "possui_outros_cartoes       0\n",
       "qtde_contas_bancarias       0\n",
       "valor_patrimonio_pessoal    0\n",
       "possui_carro                0\n",
       "ocupacao                    0\n",
       "local_onde_reside           0\n",
       "local_onde_trabalha         0\n",
       "dtype: int64"
      ]
     },
     "execution_count": 29,
     "metadata": {},
     "output_type": "execute_result"
    }
   ],
   "source": [
    "df_teste.isnull().sum()"
   ]
  },
  {
   "cell_type": "markdown",
   "metadata": {},
   "source": [
    "Plotando gráficos \n"
   ]
  },
  {
   "cell_type": "code",
   "execution_count": 23,
   "metadata": {},
   "outputs": [
    {
     "data": {
      "image/png": "[encoded data removed]",
      "text/plain": [
       "<Figure size 793.875x720 with 20 Axes>"
      ]
     },
     "metadata": {
      "needs_background": "light"
     },
     "output_type": "display_data"
    }
   ],
   "source": [
    "g = sns.pairplot(df_treinamento[[\"tipo_residencia\",\"qtde_dependentes\",\"renda_mensal_regular\",\"ocupacao\",\"inadimplente\"]],hue=\"inadimplente\")"
   ]
  },
  {
   "cell_type": "markdown",
   "metadata": {},
   "source": [
    "testando SVM"
   ]
  },
  {
   "cell_type": "code",
   "execution_count": 30,
   "metadata": {},
   "outputs": [],
   "source": [
    "x_treino = df_treinamento.iloc[:,0:21]\n",
    "y_treino = df_treinamento[\"inadimplente\"]\n",
    "x_teste = df_teste "
   ]
  },
  {
   "cell_type": "code",
   "execution_count": 34,
   "metadata": {},
   "outputs": [
    {
     "data": {
      "text/plain": [
       "RandomForestClassifier()"
      ]
     },
     "execution_count": 34,
     "metadata": {},
     "output_type": "execute_result"
    }
   ],
   "source": [
    "clf = RandomForestClassifier(n_estimators = 100)\n"
   ]
  },
  {
   "cell_type": "code",
   "execution_count": 35,
   "metadata": {},
   "outputs": [
    {
     "data": {
      "text/plain": [
       "RandomForestClassifier()"
      ]
     },
     "execution_count": 35,
     "metadata": {},
     "output_type": "execute_result"
    }
   ],
   "source": [
    "clf.fit(x_treino,y_treino)"
   ]
  },
  {
   "cell_type": "code",
   "execution_count": 79,
   "metadata": {},
   "outputs": [
    {
     "data": {
      "text/plain": [
       "array([1, 1, 1, ..., 1, 1, 1], dtype=int64)"
      ]
     },
     "execution_count": 79,
     "metadata": {},
     "output_type": "execute_result"
    }
   ],
   "source": [
    "pred = clf.predict(x_teste)\n",
    "pred"
   ]
  },
  {
   "cell_type": "code",
   "execution_count": 80,
   "metadata": {},
   "outputs": [],
   "source": [
    "s = y_teste.values\n",
    "count = 0 "
   ]
  },
  {
   "cell_type": "code",
   "execution_count": 81,
   "metadata": {},
   "outputs": [],
   "source": [
    "for i in range(len(pred)):\n",
    "    if pred[i] == s[i]:\n",
    "        count+=1"
   ]
  },
  {
   "cell_type": "code",
   "execution_count": 82,
   "metadata": {},
   "outputs": [
    {
     "data": {
      "text/plain": [
       "2520"
      ]
     },
     "execution_count": 82,
     "metadata": {},
     "output_type": "execute_result"
    }
   ],
   "source": [
    "count"
   ]
  },
  {
   "cell_type": "code",
   "execution_count": 83,
   "metadata": {},
   "outputs": [],
   "source": [
    "b = len(pred)"
   ]
  },
  {
   "cell_type": "code",
   "execution_count": 84,
   "metadata": {},
   "outputs": [
    {
     "data": {
      "text/plain": [
       "0.504"
      ]
     },
     "execution_count": 84,
     "metadata": {},
     "output_type": "execute_result"
    }
   ],
   "source": [
    "count/b"
   ]
  },
  {
   "cell_type": "code",
   "execution_count": 89,
   "metadata": {},
   "outputs": [
    {
     "data": {
      "text/html": [
       "<div>\n",
       "<style scoped>\n",
       "    .dataframe tbody tr th:only-of-type {\n",
       "        vertical-align: middle;\n",
       "    }\n",
       "\n",
       "    .dataframe tbody tr th {\n",
       "        vertical-align: top;\n",
       "    }\n",
       "\n",
       "    .dataframe thead th {\n",
       "        text-align: right;\n",
       "    }\n",
       "</style>\n",
       "<table border=\"1\" class=\"dataframe\">\n",
       "  <thead>\n",
       "    <tr style=\"text-align: right;\">\n",
       "      <th></th>\n",
       "      <th>id_solicitante</th>\n",
       "      <th>inadimplente</th>\n",
       "    </tr>\n",
       "  </thead>\n",
       "  <tbody>\n",
       "    <tr>\n",
       "      <th>0</th>\n",
       "      <td>20001</td>\n",
       "      <td>0</td>\n",
       "    </tr>\n",
       "    <tr>\n",
       "      <th>1</th>\n",
       "      <td>20002</td>\n",
       "      <td>1</td>\n",
       "    </tr>\n",
       "    <tr>\n",
       "      <th>2</th>\n",
       "      <td>20003</td>\n",
       "      <td>0</td>\n",
       "    </tr>\n",
       "    <tr>\n",
       "      <th>3</th>\n",
       "      <td>20004</td>\n",
       "      <td>1</td>\n",
       "    </tr>\n",
       "    <tr>\n",
       "      <th>4</th>\n",
       "      <td>20005</td>\n",
       "      <td>0</td>\n",
       "    </tr>\n",
       "  </tbody>\n",
       "</table>\n",
       "</div>"
      ],
      "text/plain": [
       "   id_solicitante  inadimplente\n",
       "0           20001             0\n",
       "1           20002             1\n",
       "2           20003             0\n",
       "3           20004             1\n",
       "4           20005             0"
      ]
     },
     "execution_count": 89,
     "metadata": {},
     "output_type": "execute_result"
    }
   ],
   "source": [
    "df_exresp.head()"
   ]
  },
  {
   "cell_type": "code",
   "execution_count": 90,
   "metadata": {},
   "outputs": [],
   "source": [
    "df_predicao = pd.DataFrame({\"id_solicitante\":x_teste[\"id_solicitante\"],\n",
    "                              \"inadimplente\":pred})"
   ]
  },
  {
   "cell_type": "code",
   "execution_count": 92,
   "metadata": {},
   "outputs": [],
   "source": [
    "csv = df_predicao.to_csv(\"predicao\",index=False)"
   ]
  },
  {
   "cell_type": "code",
   "execution_count": null,
   "metadata": {},
   "outputs": [],
   "source": []
  }
 ],
 "metadata": {
  "kernelspec": {
   "display_name": "Python 3",
   "language": "python",
   "name": "python3"
  },
  "language_info": {
   "codemirror_mode": {
    "name": "ipython",
    "version": 3
   },
   "file_extension": ".py",
   "mimetype": "text/x-python",
   "name": "python",
   "nbconvert_exporter": "python",
   "pygments_lexer": "ipython3",
   "version": "3.8.5"
  }
 },
 "nbformat": 4,
 "nbformat_minor": 4
}
